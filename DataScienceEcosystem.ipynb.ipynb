{
 "cells": [
  {
   "cell_type": "code",
   "execution_count": null,
   "id": "925f0a44-d6e4-44a7-bb9c-0642e53d78b7",
   "metadata": {
    "tags": []
   },
   "outputs": [],
   "source": [
    "Data Science Tools and Ecosystem"
   ]
  },
  {
   "cell_type": "code",
   "execution_count": null,
   "id": "13128aaa-14c6-4eca-9e0f-0e4785f7e4f1",
   "metadata": {},
   "outputs": [],
   "source": [
    "In this notebook, Data Science Tools and Ecosystem are summarized."
   ]
  },
  {
   "cell_type": "code",
   "execution_count": null,
   "id": "002987c8-baca-4b94-8122-70dad7b607a0",
   "metadata": {},
   "outputs": [],
   "source": [
    "Some of the popular languages that Data Scientists use are: Phyton, R, Julia"
   ]
  },
  {
   "cell_type": "code",
   "execution_count": null,
   "id": "abcc7b68-b4bf-458a-b699-a375c6e909a0",
   "metadata": {},
   "outputs": [],
   "source": [
    "Some of the commonly used libraries used by Data Scientists include:NumPy,Pandas. SciPy."
   ]
  },
  {
   "cell_type": "markdown",
   "id": "9d657105-f127-4034-81cb-1cea6a9cae18",
   "metadata": {},
   "source": [
    "Data Science Tools\n",
    "##Create a line plot"
   ]
  },
  {
   "cell_type": "code",
   "execution_count": null,
   "id": "2299e660-ee25-40a0-b5a1-bf6c0c30b2e8",
   "metadata": {},
   "outputs": [],
   "source": [
    "TensorFlow"
   ]
  },
  {
   "cell_type": "code",
   "execution_count": null,
   "id": "c3c12e93-8cbf-41bc-b4dc-86dc371eb3c9",
   "metadata": {},
   "outputs": [],
   "source": [
    "Apache Spark"
   ]
  },
  {
   "cell_type": "code",
   "execution_count": null,
   "id": "5836a6d7-a500-4de5-93c7-3dd5ca745487",
   "metadata": {},
   "outputs": [],
   "source": [
    "Scikit-learn"
   ]
  },
  {
   "cell_type": "code",
   "execution_count": null,
   "id": "04eac580-ed42-40f1-b51f-3e0a74340934",
   "metadata": {},
   "outputs": [],
   "source": [
    "Below are a few examples of evaluating arithmetic expressions in Python"
   ]
  },
  {
   "cell_type": "code",
   "execution_count": null,
   "id": "8d45e7bc-256a-40e4-a2c9-6a058a79871f",
   "metadata": {},
   "outputs": [],
   "source": [
    "This a simple arithmetic expression to mutiply then add integers"
   ]
  },
  {
   "cell_type": "code",
   "execution_count": 2,
   "id": "eee0d21e-1bad-4dd3-b40c-91dc96d35f06",
   "metadata": {
    "tags": []
   },
   "outputs": [
    {
     "data": {
      "text/plain": [
       "17"
      ]
     },
     "execution_count": 2,
     "metadata": {},
     "output_type": "execute_result"
    }
   ],
   "source": [
    "(3*4)+5"
   ]
  },
  {
   "cell_type": "code",
   "execution_count": null,
   "id": "a431c5a3-ed85-48b3-add9-57934991cbd6",
   "metadata": {
    "tags": []
   },
   "outputs": [],
   "source": [
    "This will convert 200 minutes to hours by diving by 60"
   ]
  },
  {
   "cell_type": "code",
   "execution_count": 5,
   "id": "a1b87e81-d158-419c-9607-46c45fe16f10",
   "metadata": {
    "tags": []
   },
   "outputs": [
    {
     "data": {
      "text/plain": [
       "3.3333333333333335"
      ]
     },
     "execution_count": 5,
     "metadata": {},
     "output_type": "execute_result"
    }
   ],
   "source": [
    "(200/60)"
   ]
  },
  {
   "cell_type": "markdown",
   "id": "f0ce61bd-6289-4557-a34f-bc1c8a29d96d",
   "metadata": {},
   "source": [
    "Objectives:\n",
    "Phyton\n",
    "R\n",
    "SQL\n",
    "Javascript\n",
    "Julia\n"
   ]
  },
  {
   "cell_type": "code",
   "execution_count": null,
   "id": "1670b424-3baa-4fe3-a7bd-0303fa6fbd05",
   "metadata": {},
   "outputs": [],
   "source": [
    "Author: Javier De Anda"
   ]
  }
 ],
 "metadata": {
  "kernelspec": {
   "display_name": "Python",
   "language": "python",
   "name": "conda-env-python-py"
  },
  "language_info": {
   "codemirror_mode": {
    "name": "ipython",
    "version": 3
   },
   "file_extension": ".py",
   "mimetype": "text/x-python",
   "name": "python",
   "nbconvert_exporter": "python",
   "pygments_lexer": "ipython3",
   "version": "3.7.12"
  }
 },
 "nbformat": 4,
 "nbformat_minor": 5
}
